{
 "cells": [
  {
   "cell_type": "markdown",
   "id": "internal-victim",
   "metadata": {},
   "source": [
    "## ESR 514 Numeriacal Methord and Algorithoms in RS and GIS\n",
    "## Assignment number 2-numpy"
   ]
  },
  {
   "cell_type": "markdown",
   "id": "specified-webmaster",
   "metadata": {},
   "source": [
    "### MSc/GIS/19/11"
   ]
  },
  {
   "cell_type": "markdown",
   "id": "literary-change",
   "metadata": {},
   "source": [
    "## Question Number 1"
   ]
  },
  {
   "cell_type": "code",
   "execution_count": 1,
   "id": "finnish-sudan",
   "metadata": {},
   "outputs": [],
   "source": [
    "#import numpy \n",
    "import numpy as np"
   ]
  },
  {
   "cell_type": "markdown",
   "id": "patient-digit",
   "metadata": {},
   "source": [
    "## Question Number 2"
   ]
  },
  {
   "cell_type": "code",
   "execution_count": null,
   "id": "threatened-malaysia",
   "metadata": {},
   "outputs": [],
   "source": [
    "#Print the numpy version and the cofigratio\n",
    "print(\"numpy version is\",np.__version__)\n",
    "print(np.show_config())"
   ]
  },
  {
   "cell_type": "markdown",
   "id": "statewide-stanford",
   "metadata": {},
   "source": [
    "## Question Number 3"
   ]
  },
  {
   "cell_type": "code",
   "execution_count": 2,
   "id": "atlantic-prague",
   "metadata": {},
   "outputs": [
    {
     "name": "stdout",
     "output_type": "stream",
     "text": [
      "[0. 0. 0. 0. 0.]\n"
     ]
    }
   ],
   "source": [
    "x = np.zeros(5)\n",
    "print(x)"
   ]
  },
  {
   "cell_type": "markdown",
   "id": "interesting-acting",
   "metadata": {},
   "source": [
    "## Question Number 4"
   ]
  },
  {
   "cell_type": "code",
   "execution_count": 3,
   "id": "cosmetic-dress",
   "metadata": {},
   "outputs": [
    {
     "name": "stdout",
     "output_type": "stream",
     "text": [
      "[[1. 0. 0. 0. 0. 0. 0. 0. 0. 0.]\n",
      " [0. 1. 0. 0. 0. 0. 0. 0. 0. 0.]\n",
      " [0. 0. 1. 0. 0. 0. 0. 0. 0. 0.]\n",
      " [0. 0. 0. 1. 0. 0. 0. 0. 0. 0.]\n",
      " [0. 0. 0. 0. 1. 0. 0. 0. 0. 0.]\n",
      " [0. 0. 0. 0. 0. 1. 0. 0. 0. 0.]\n",
      " [0. 0. 0. 0. 0. 0. 1. 0. 0. 0.]\n",
      " [0. 0. 0. 0. 0. 0. 0. 1. 0. 0.]\n",
      " [0. 0. 0. 0. 0. 0. 0. 0. 1. 0.]\n",
      " [0. 0. 0. 0. 0. 0. 0. 0. 0. 1.]]\n",
      "Size of the array:  100\n",
      "Memory size of numpy array in bytes: 800\n"
     ]
    }
   ],
   "source": [
    "x = np.eye(10)\n",
    "print(x)\n",
    "\n",
    "print(\"Size of the array: \",x.size)   \n",
    "#print(\"Memory size of one array element in bytes: \",x.itemsize) \n",
    "  \n",
    "# memory size of numpy array in bytes \n",
    "print(\"Memory size of numpy array in bytes:\",x.size * x.itemsize)"
   ]
  },
  {
   "cell_type": "markdown",
   "id": "adjustable-printing",
   "metadata": {},
   "source": [
    "## Question Number 5"
   ]
  },
  {
   "cell_type": "code",
   "execution_count": 4,
   "id": "alleged-lawyer",
   "metadata": {},
   "outputs": [
    {
     "name": "stdout",
     "output_type": "stream",
     "text": [
      "[  0   1   2   3   4   5   6   7   8   9  10  11  12  13  14  15  16  17\n",
      "  18  19  20  21  22  23  24  25  26  27  28  29  30  31  32  33  34  35\n",
      "  36  37  38  39  40  41  42  43  44  45  46  47  48  49  50  51  52  53\n",
      "  54  55  56  57  58  59  60  61  62  63  64  65  66  67  68  69  70  71\n",
      "  72  73  74  75  76  77  78  79  80  81  82  83  84  85  86  87  88  89\n",
      "  90  91  92  93  94  95  96  97  98  99 100 101 102 103 104 105 106 107\n",
      " 108 109 110 111 112 113 114 115 116 117 118 119 120 121 122 123 124 125\n",
      " 126 127 128 129 130 131 132 133 134 135 136 137 138 139 140 141 142 143\n",
      " 144 145 146 147 148 149 150 151 152 153 154 155 156 157 158 159 160 161\n",
      " 162 163 164 165 166 167 168 169 170 171 172 173 174 175 176 177 178 179\n",
      " 180 181 182 183 184 185 186 187 188 189 190 191 192 193 194 195 196 197\n",
      " 198 199 200 201 202 203 204 205 206 207 208 209 210 211 212 213 214 215\n",
      " 216 217 218 219 220 221 222 223 224 225 226 227 228 229 230 231 232 233\n",
      " 234 235 236 237 238 239 240 241 242 243 244 245 246 247 248 249 250 251\n",
      " 252 253 254]\n"
     ]
    }
   ],
   "source": [
    "x = np.arange(0,255)\n",
    "print(x)"
   ]
  },
  {
   "cell_type": "markdown",
   "id": "short-driver",
   "metadata": {},
   "source": [
    "## Question Number 6"
   ]
  },
  {
   "cell_type": "code",
   "execution_count": 5,
   "id": "inside-wilson",
   "metadata": {},
   "outputs": [
    {
     "name": "stdout",
     "output_type": "stream",
     "text": [
      "[0 1 2 3 4 5 6 7 8 9]\n",
      "[9 8 7 6 5 4 3 2 1 0]\n"
     ]
    }
   ],
   "source": [
    "x = np.array([0,1,2,3,4,5,6,7,8,9])\n",
    "print(x)\n",
    "\n",
    "x = np.flipud(x) \n",
    "print(x)    "
   ]
  },
  {
   "cell_type": "markdown",
   "id": "flying-equipment",
   "metadata": {},
   "source": [
    "## Question Number 7"
   ]
  },
  {
   "cell_type": "code",
   "execution_count": 6,
   "id": "domestic-nicholas",
   "metadata": {},
   "outputs": [
    {
     "name": "stdout",
     "output_type": "stream",
     "text": [
      "[[7 2 9 5 4]\n",
      " [7 3 2 9 7]\n",
      " [5 2 8 2 8]\n",
      " [4 7 3 4 0]\n",
      " [8 5 1 0 2]]\n"
     ]
    }
   ],
   "source": [
    "x = np.random.randint(low=0, high=10, size=(5, 5))\n",
    "print(x)"
   ]
  },
  {
   "cell_type": "markdown",
   "id": "aquatic-recruitment",
   "metadata": {},
   "source": [
    "## Question Number 8"
   ]
  },
  {
   "cell_type": "code",
   "execution_count": 4,
   "id": "documentary-ending",
   "metadata": {},
   "outputs": [
    {
     "name": "stdout",
     "output_type": "stream",
     "text": [
      "[19 12  0 -5  0  4 -6]\n",
      "this is the index of -5  (array([3], dtype=int64),)\n",
      "this is the indices of non-zero values (array([0, 1, 3, 5, 6], dtype=int64),)\n",
      "minimum value is -6\n",
      "maximum value is  19\n"
     ]
    }
   ],
   "source": [
    "x = np.array([19,12,0,-5,0,4,-6])\n",
    "print(x)\n",
    "\n",
    "print(\"this is the index of -5 \",np.where(x == -5))\n",
    "\n",
    "print(\"this is the indices of non-zero values\",np.where(x!= 0))\n",
    "\n",
    "print(\"minimum value is\",np.min(x))\n",
    "\n",
    "print(\"maximum value is \",np.max(x))\n"
   ]
  },
  {
   "cell_type": "markdown",
   "id": "critical-porter",
   "metadata": {},
   "source": [
    "## Question Number 9"
   ]
  },
  {
   "cell_type": "code",
   "execution_count": 5,
   "id": "chief-eight",
   "metadata": {},
   "outputs": [
    {
     "name": "stdout",
     "output_type": "stream",
     "text": [
      "[[0 0 0 0 0 0 0 0]\n",
      " [0 1 1 1 1 1 1 0]\n",
      " [0 1 1 1 1 1 1 0]\n",
      " [0 1 1 1 1 1 1 0]\n",
      " [0 1 1 1 1 1 1 0]\n",
      " [0 1 1 1 1 1 1 0]\n",
      " [0 1 1 1 1 1 1 0]\n",
      " [0 0 0 0 0 0 0 0]]\n"
     ]
    }
   ],
   "source": [
    "x = np.ones((8,8),dtype=int)\n",
    "x[:1,:8] = 0\n",
    "x[:8,:1] = 0\n",
    "x[:8,7:8]=0\n",
    "x[7:8,:8]=0\n",
    "print(x)"
   ]
  },
  {
   "cell_type": "markdown",
   "id": "million-defendant",
   "metadata": {},
   "source": [
    "## Question Number 10"
   ]
  },
  {
   "cell_type": "code",
   "execution_count": 3,
   "id": "jewish-farming",
   "metadata": {},
   "outputs": [
    {
     "name": "stdout",
     "output_type": "stream",
     "text": [
      "[[ 12   4   6   0  55   6]\n",
      " [ 19   7   0   1   8   0]\n",
      " [ 99  12   3   4   2  32]\n",
      " [  6   1  23   0  45  54]\n",
      " [ 78   0 156 124   7  73]\n",
      " [  0  41   0   7   6  21]]\n"
     ]
    }
   ],
   "source": [
    "x = np.array([[12,4,6,0,55,6],[19,7,0,1,8,0],[99,12,3,4,2,32],[6,1,23,0,45,54],[78,0,156,124,7,73],[0,41,0,7,6,21]])\n",
    "print(x)"
   ]
  },
  {
   "cell_type": "markdown",
   "id": "pregnant-murray",
   "metadata": {},
   "source": [
    "10 a\n",
    "Normalization is the process of castong the data to the specific range. it may be between 0-1 or -1 to +1."
   ]
  },
  {
   "cell_type": "markdown",
   "id": "northern-archives",
   "metadata": {},
   "source": [
    "10 b Normalization is requred when there are big differences in the ranges of differnt features."
   ]
  },
  {
   "cell_type": "markdown",
   "id": "disturbed-petroleum",
   "metadata": {},
   "source": [
    "10 c"
   ]
  },
  {
   "cell_type": "code",
   "execution_count": 6,
   "id": "environmental-greece",
   "metadata": {},
   "outputs": [
    {
     "name": "stdout",
     "output_type": "stream",
     "text": [
      "[[ 12   4   6   0  55   6]\n",
      " [ 19   7   0   1   8   0]\n",
      " [ 99  12   3   4   2  32]\n",
      " [  6   1  23   0  45  54]\n",
      " [ 78   0 156 124   7  73]\n",
      " [  0  41   0   7   6  21]]\n",
      "[[0.04422718 0.01474239 0.02211359 0.         0.2027079  0.02211359]\n",
      " [0.07002637 0.02579919 0.         0.0036856  0.02948479 0.        ]\n",
      " [0.36487423 0.04422718 0.01105679 0.01474239 0.0073712  0.11793914]\n",
      " [0.02211359 0.0036856  0.08476876 0.         0.16585192 0.19902231]\n",
      " [0.28747666 0.         0.57495333 0.45701418 0.02579919 0.26904867]\n",
      " [0.         0.15110953 0.         0.02579919 0.02211359 0.07739756]]\n"
     ]
    }
   ],
   "source": [
    "x = np.array([[12,4,6,0,55,6],[19,7,0,1,8,0],[99,12,3,4,2,32],[6,1,23,0,45,54],[78,0,156,124,7,73],[0,41,0,7,6,21]])\n",
    "print(x)\n",
    "x = x/np.linalg.norm(x)\n",
    "print(x)"
   ]
  },
  {
   "cell_type": "markdown",
   "id": "vulnerable-international",
   "metadata": {},
   "source": [
    "10 d"
   ]
  },
  {
   "cell_type": "code",
   "execution_count": 8,
   "id": "sixth-council",
   "metadata": {},
   "outputs": [
    {
     "name": "stdout",
     "output_type": "stream",
     "text": [
      "[[0.04422718 0.01474239 0.02211359 0.         0.2027079  0.02211359\n",
      "  0.07002637 0.02579919 0.        ]\n",
      " [0.0036856  0.02948479 0.         0.36487423 0.04422718 0.01105679\n",
      "  0.01474239 0.0073712  0.11793914]\n",
      " [0.02211359 0.0036856  0.08476876 0.         0.16585192 0.19902231\n",
      "  0.28747666 0.         0.57495333]\n",
      " [0.45701418 0.02579919 0.26904867 0.         0.15110953 0.\n",
      "  0.02579919 0.02211359 0.07739756]]\n"
     ]
    }
   ],
   "source": [
    "x = x.reshape(4,9)\n",
    "print(x)"
   ]
  },
  {
   "cell_type": "markdown",
   "id": "economic-invitation",
   "metadata": {},
   "source": [
    "## Question Number 11"
   ]
  },
  {
   "cell_type": "code",
   "execution_count": null,
   "id": "conscious-romantic",
   "metadata": {},
   "outputs": [],
   "source": [
    "print(np.array(0)/np.array(0))"
   ]
  },
  {
   "cell_type": "code",
   "execution_count": null,
   "id": "speaking-inflation",
   "metadata": {},
   "outputs": [],
   "source": [
    "print(np.array(0)//np.array(0))"
   ]
  },
  {
   "cell_type": "markdown",
   "id": "accomplished-accident",
   "metadata": {},
   "source": [
    "### in first command i got answer as nan. that means not a number. it is a normal division. but in second command i got 0. it is flour division. it's returned a number."
   ]
  },
  {
   "cell_type": "markdown",
   "id": "scientific-observation",
   "metadata": {},
   "source": [
    "## Question Number 12"
   ]
  },
  {
   "cell_type": "code",
   "execution_count": null,
   "id": "advised-helicopter",
   "metadata": {},
   "outputs": [],
   "source": [
    "daybeforeyesterday = np.datetime64('today', 'D') - np.timedelta64(2, 'D')\n",
    "print(\"Day Before Yestraday: \",daybeforeyesterday)\n",
    "yesterday = np.datetime64('today', 'D') - np.timedelta64(1, 'D')\n",
    "print(\"Yestraday: \",yesterday)\n",
    "today     = np.datetime64('today', 'D')\n",
    "print(\"Today: \",today)\n",
    "tomorrow  = np.datetime64('today', 'D') + np.timedelta64(1, 'D')\n",
    "print(\"Tomorrow: \",tomorrow)"
   ]
  },
  {
   "cell_type": "markdown",
   "id": "together-joyce",
   "metadata": {},
   "source": [
    "## Question Number 13"
   ]
  },
  {
   "cell_type": "code",
   "execution_count": 8,
   "id": "native-technical",
   "metadata": {},
   "outputs": [
    {
     "name": "stdout",
     "output_type": "stream",
     "text": [
      "[37 34 46 43  1 30 12 10 24 10  9 32 42 11  0]\n",
      "[ 0  1  9 10 10 11 12 24 30 32 34 37 42 43 46]\n",
      "[46 43 42 37 34 32 30 24 12 11 10 10  9  1  0]\n"
     ]
    }
   ],
   "source": [
    "x = np.random.randint(low=0,high=50,size=15)\n",
    "print(x)\n",
    "#sort in ascending order\n",
    "x = np.sort(x)\n",
    "print(x)\n",
    "#sort in descending order\n",
    "x =-np.sort(-x)\n",
    "print(x)"
   ]
  },
  {
   "cell_type": "markdown",
   "id": "formed-compensation",
   "metadata": {},
   "source": [
    "## Question Number 14"
   ]
  },
  {
   "cell_type": "code",
   "execution_count": null,
   "id": "dated-request",
   "metadata": {},
   "outputs": [],
   "source": [
    "p = np.random.random(10)*5\n",
    "print(\"array p \\n\",p)\n",
    "q = np.random.random(10)*5\n",
    "print(\"array q \\n\",q)\n",
    "\n",
    "if np.array_equal(p,q)==False:\n",
    "    print(\"Two arrays are not equal\")\n",
    "else:\n",
    "    print(\"Two arrays are equal\")"
   ]
  },
  {
   "cell_type": "markdown",
   "id": "manual-faculty",
   "metadata": {},
   "source": [
    "## Question Number 15"
   ]
  },
  {
   "cell_type": "code",
   "execution_count": null,
   "id": "aggregate-wright",
   "metadata": {},
   "outputs": [],
   "source": [
    "Ex = np.array([{'USD':195.91,'EUR':233.45,'GBP':271.14}])\n",
    "#print(x)\n",
    "play = True\n",
    "while play:\n",
    "    currency = input(\"Please select your currency type:\\nUSD\\nEUR\\nGBP\\n\")\n",
    "    x = float(input(\"Enter your currency ammount: \"))\n",
    "    #print(currrency)\n",
    "    while True:\n",
    "        if currency == 'USD':\n",
    "            print(\"Your US doller ammount is equal to Rs:\",x*float(Ex[0]['USD']))\n",
    "            break\n",
    "        elif currency == 'EUR':\n",
    "            print(\"Your Euro ammount is equal to Rs:\",x*float(Ex[0]['EUR']))\n",
    "            break\n",
    "        elif currency == 'GBP':\n",
    "            print(\"Your GB pound ammount is equal to Rs:\",x*float(Ex[0]['GBP']))\n",
    "            break\n",
    "        else:\n",
    "            curency =float(input(\"Select corret option!\"))\n",
    "\n",
    "    ans = input(\"Do you want convert again :(y/n)\")\n",
    "    if ans =='y':\n",
    "        continue\n",
    "    else:\n",
    "        print(\"Thank you for used my currency converter!\\n Have a nice day!\")\n",
    "        break  "
   ]
  }
 ],
 "metadata": {
  "kernelspec": {
   "display_name": "Python 3",
   "language": "python",
   "name": "python3"
  },
  "language_info": {
   "codemirror_mode": {
    "name": "ipython",
    "version": 3
   },
   "file_extension": ".py",
   "mimetype": "text/x-python",
   "name": "python",
   "nbconvert_exporter": "python",
   "pygments_lexer": "ipython3",
   "version": "3.9.1"
  }
 },
 "nbformat": 4,
 "nbformat_minor": 5
}
