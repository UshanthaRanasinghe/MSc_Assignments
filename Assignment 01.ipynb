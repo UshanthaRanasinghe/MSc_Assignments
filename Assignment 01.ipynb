{
 "cells": [
  {
   "cell_type": "markdown",
   "id": "brown-knife",
   "metadata": {},
   "source": [
    "## ESR 514 – Numerical Methods and Algorithms in RS and GIS (2019/20)\n",
    "## Programming Assignment 01"
   ]
  },
  {
   "cell_type": "markdown",
   "id": "distinguished-british",
   "metadata": {},
   "source": [
    "### MSc/GIS/19/11"
   ]
  },
  {
   "cell_type": "markdown",
   "id": "portable-reader",
   "metadata": {},
   "source": [
    "### 1. Convert kilometers to miles\n"
   ]
  },
  {
   "cell_type": "code",
   "execution_count": null,
   "id": "above-tooth",
   "metadata": {},
   "outputs": [],
   "source": [
    "x = int(input(\"Please enter Km : \"))\n",
    "miles = x * 0.621371\n",
    "print(\"Your Km is convert into mils is :\", miles)"
   ]
  },
  {
   "cell_type": "markdown",
   "id": "domestic-factor",
   "metadata": {},
   "source": [
    "### 2. Convert Celsius to Fahrenheit."
   ]
  },
  {
   "cell_type": "code",
   "execution_count": null,
   "id": "discrete-puppy",
   "metadata": {},
   "outputs": [],
   "source": [
    "# Get Celsius value form user\n",
    "celsius = float(input(\"Please Enter Celsius value :\"))\n",
    "# calculate fahrenheit\n",
    "fahrenheit = (celsius * 1.8) + 32\n",
    "print('%0.1f degree Celsius is equal to %0.1f degree Fahrenheit' %(celsius,fahrenheit))"
   ]
  },
  {
   "cell_type": "markdown",
   "id": "physical-mobility",
   "metadata": {},
   "source": [
    "### 3. Generate a multiplication table for a given number (from one to ten). The output should be\n",
    "displayed as follows.\n",
    "12 x 1 = 12\n",
    "12 x 2 = 24\n",
    "12 x 3 = 36\n",
    "12 x 4 = 48\n",
    "12 x 5 = 60\n",
    "12 x 6 = 72\n",
    "12 x 7 = 84\n",
    "12 x 8 = 96\n",
    "12 x 9 = 108\n",
    "12 x 10 = 120"
   ]
  },
  {
   "cell_type": "code",
   "execution_count": 1,
   "id": "acquired-enclosure",
   "metadata": {},
   "outputs": [
    {
     "name": "stdin",
     "output_type": "stream",
     "text": [
      "please enter number : 5\n"
     ]
    },
    {
     "name": "stdout",
     "output_type": "stream",
     "text": [
      "5 X 1 \t= 5\n",
      "5 X 2 \t= 10\n",
      "5 X 3 \t= 15\n",
      "5 X 4 \t= 20\n",
      "5 X 5 \t= 25\n",
      "5 X 6 \t= 30\n",
      "5 X 7 \t= 35\n",
      "5 X 8 \t= 40\n",
      "5 X 9 \t= 45\n",
      "5 X 10 \t= 50\n",
      "5 X 11 \t= 55\n",
      "5 X 12 \t= 60\n"
     ]
    }
   ],
   "source": [
    "r =int(input(\"please enter number :\"))\n",
    "i = 1\n",
    "while i <=12:\n",
    "    print(r,'X',i,\"\\t\"'=',r*i)\n",
    "    i = i+1"
   ]
  },
  {
   "cell_type": "markdown",
   "id": "southern-calgary",
   "metadata": {},
   "source": [
    "### 4. Calculate the area of a triangle."
   ]
  },
  {
   "cell_type": "code",
   "execution_count": null,
   "id": "conventional-checklist",
   "metadata": {},
   "outputs": [],
   "source": [
    "## Get the Three side of the Triangle\n",
    "x = float(input('Enter first side : '))\n",
    "y = float(input('Enter second side : '))\n",
    "z = float(input('Enter third side : '))\n",
    "\n",
    "r = (x+y+z)/2\n",
    "\n",
    "# Calculate the area\n",
    "\n",
    "area = (r*(r-x)*(r-y)*(r-z))**0.5\n",
    "\n",
    "print(\"The area of the triangle is \", area)"
   ]
  },
  {
   "cell_type": "markdown",
   "id": "viral-christopher",
   "metadata": {},
   "source": [
    "### 5. Get any word as user input and display its letters one by one as given below.\n",
    "Enter your word: Python\n",
    "Current Letter: P\n",
    "Current Letter: y\n",
    "Current Letter: t\n",
    "Current Letter: h\n",
    "Current Letter: o\n",
    "Current Letter: n"
   ]
  },
  {
   "cell_type": "code",
   "execution_count": 1,
   "id": "challenging-creek",
   "metadata": {},
   "outputs": [
    {
     "name": "stdin",
     "output_type": "stream",
     "text": [
      "Please enter the word : banana\n"
     ]
    },
    {
     "name": "stdout",
     "output_type": "stream",
     "text": [
      "Current letter: b\n",
      "Current letter: a\n",
      "Current letter: n\n",
      "Current letter: a\n",
      "Current letter: n\n",
      "Current letter: a\n",
      "\n"
     ]
    }
   ],
   "source": [
    "# Get the word from user\n",
    "word = input(\"Please enter the word :\")\n",
    "for i in range(len(word)):\n",
    "    print(\"Current letter:\",word[i])\n",
    "print()\n"
   ]
  },
  {
   "cell_type": "markdown",
   "id": "circular-supervision",
   "metadata": {},
   "source": [
    "### 6. Display the following pattern.\n",
    "1\n",
    "1 2\n",
    "1 2 3\n",
    "1 2 3 4\n"
   ]
  },
  {
   "cell_type": "code",
   "execution_count": 4,
   "id": "literary-decision",
   "metadata": {},
   "outputs": [
    {
     "name": "stdout",
     "output_type": "stream",
     "text": [
      "   1 \n",
      "  1 2 \n",
      " 1 2 3 \n",
      "1 2 3 4 \n"
     ]
    }
   ],
   "source": [
    "for i in range(4):\n",
    "    for j in range(4-i-1):\n",
    "        print(\" \",end=\"\")\n",
    "    for r in range(i+1):\n",
    "        print(r+1,end=\" \")\n",
    "     \n",
    "    print()   "
   ]
  },
  {
   "cell_type": "markdown",
   "id": "relevant-johnson",
   "metadata": {},
   "source": [
    "### 7. Find the sum of natural numbers from 1 to 1000. The output should be given as follows.\n",
    "1st iteration: sum = 0 + 1 = 1\n",
    "2nd iteration: sum = 1 + 2 = 3\n",
    "3rd iteration: sum = 3 + 3 = 6\n",
    "4th iteration: sum = 6 + 4 = 10\n",
    ".\n",
    ".\n",
    ".\n",
    "999th iteration: sum = 498501 + 999 = 499500\n",
    "1000th iteration: sum = 499500 + 1000 = 500500"
   ]
  },
  {
   "cell_type": "code",
   "execution_count": null,
   "id": "stunning-carol",
   "metadata": {},
   "outputs": [],
   "source": [
    "# Define a function to get number and return the suffix\n",
    "def suff(x):\n",
    "    if x % 100//10 != 1:\n",
    "        if x % 10 == 1:\n",
    "            val = \"%a%s\" % (x, \"st\")\n",
    "        elif x % 10 == 2:\n",
    "            val = \"%a%s\" % (x, \"nd\")\n",
    "        elif x % 10 == 3:\n",
    "            val = \"%a%s\" % (x, \"rd\")\n",
    "        else:\n",
    "            val = \"%a%s\" % (x, \"th\")\n",
    "    else:\n",
    "        val = \"%a%s\" % (x, \"th\")\n",
    "\n",
    "    return val\n",
    "\n",
    "n = 1001\n",
    "start = 0\n",
    "for i in range(1,n):\n",
    "    count = start+ i\n",
    "    print(suff(i),\"iteration : sum =\",start,\"+\",i,\"=\",count)\n",
    "    start = count\n",
    "    \n",
    "    "
   ]
  },
  {
   "cell_type": "markdown",
   "id": "impressed-jumping",
   "metadata": {},
   "source": [
    "### 8. Print the English alphabet using ASCII values."
   ]
  },
  {
   "cell_type": "code",
   "execution_count": null,
   "id": "figured-calvin",
   "metadata": {},
   "outputs": [],
   "source": [
    "#printing all upper case alphabets\n",
    "print(\"All upper case alphabets are: \")\n",
    "for i in range(65,91):\n",
    "  print(chr(i),end=' ')\n",
    "  #displaying all upper case Alphabets with space\n",
    "  #Ascii value of upper case alphabtes 65 - 91"
   ]
  },
  {
   "cell_type": "markdown",
   "id": "productive-dietary",
   "metadata": {},
   "source": [
    "### 9. Identify numbers which are divisible by four from a given list of numbers. (A list should be created to store numbers.)"
   ]
  },
  {
   "cell_type": "code",
   "execution_count": null,
   "id": "formed-navigator",
   "metadata": {},
   "outputs": [],
   "source": [
    "# Create a list to store numbers\n",
    "the_list=[]\n",
    "n = int(input(\"How many numbers do you have? \"))\n",
    "\n",
    "for i in range(n):\n",
    "    the_list.append((int(input(\"Enter number\"))))\n",
    "print()\n",
    "print(\"Folowing numbers can divide by 4 \")\n",
    "for x in the_list:\n",
    "    if x % 4 == 0:\n",
    "        print(x,\",divisible by 4 \") # print number            \n",
    "the_list=[] # clear list"
   ]
  },
  {
   "cell_type": "markdown",
   "id": "apart-hardware",
   "metadata": {},
   "source": [
    "### 10. Develop a simple calculator app including all possible functionalities. (Marks will be allocated depending on your performance and best coding practices.)"
   ]
  },
  {
   "cell_type": "code",
   "execution_count": null,
   "id": "appointed-insulation",
   "metadata": {},
   "outputs": [],
   "source": [
    "# crate functios\n",
    "# add function\n",
    "def add(x,y):\n",
    "    return x+y\n",
    "# substarct function\n",
    "def sub(x,y):\n",
    "    return x-y\n",
    "\n",
    "# multifly function\n",
    "def multifly(x,y):\n",
    "    return x*y\n",
    "# divides function\n",
    "\n",
    "def devides(x,y):\n",
    "    return x/y\n",
    "\n",
    "# use inputs\n",
    "print(\"Select your option:\\n 1 Add \\n 2 Subtract \\n 3 Multifly \\n 4 Divide \\n 5 Exit\")\n",
    "\n",
    "while True:\n",
    "    ans = input(\"Enter your answer :\")\n",
    "    if ans in('1','2','3','4'):\n",
    "        x = float(input(\"Enter 1st number :\"))\n",
    "        y = float(input(\"Enter 2nd number :\"))\n",
    "        \n",
    "        if ans == '1':\n",
    "            print(\"Your answer (1st number + 2nd number) is \",add(x,y))\n",
    "        elif ans =='2':\n",
    "            print(\"Your answer (1st number - 2nd number) is \",sub(x,y) )\n",
    "        elif ans == '3':\n",
    "            print(\"Your answer (1st number - 2nd number) is \",multifly(x,y))\n",
    "        elif ans == '4':\n",
    "            print(\"Your answer (1st number - 2nd number) is \",devides(x,y)) \n",
    "        elif ans =='5':\n",
    "            break    \n",
    "       \n",
    "    elif ans == '5':\n",
    "        print(\"Thank you for used this app!\\nhave a nice day\")\n",
    "        break\n",
    "    else:\n",
    "        print(\"invalid number\")  "
   ]
  },
  {
   "cell_type": "code",
   "execution_count": null,
   "id": "stupid-airfare",
   "metadata": {},
   "outputs": [],
   "source": []
  }
 ],
 "metadata": {
  "kernelspec": {
   "display_name": "Python 3",
   "language": "python",
   "name": "python3"
  },
  "language_info": {
   "codemirror_mode": {
    "name": "ipython",
    "version": 3
   },
   "file_extension": ".py",
   "mimetype": "text/x-python",
   "name": "python",
   "nbconvert_exporter": "python",
   "pygments_lexer": "ipython3",
   "version": "3.9.1"
  }
 },
 "nbformat": 4,
 "nbformat_minor": 5
}
